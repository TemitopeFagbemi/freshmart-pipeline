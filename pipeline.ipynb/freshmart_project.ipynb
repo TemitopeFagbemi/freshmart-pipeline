{
 "cells": [
  {
   "cell_type": "code",
   "execution_count": 2,
   "id": "3963fc52-3a82-4a1c-a776-b1d8445c5e22",
   "metadata": {},
   "outputs": [
    {
     "name": "stdout",
     "output_type": "stream",
     "text": [
      "Requirement already satisfied: pandas in c:\\users\\temit\\appdata\\local\\programs\\python\\python313\\lib\\site-packages (2.3.1)\n",
      "Requirement already satisfied: numpy>=1.26.0 in c:\\users\\temit\\appdata\\local\\programs\\python\\python313\\lib\\site-packages (from pandas) (2.3.2)\n",
      "Requirement already satisfied: python-dateutil>=2.8.2 in c:\\users\\temit\\appdata\\local\\programs\\python\\python313\\lib\\site-packages (from pandas) (2.9.0.post0)\n",
      "Requirement already satisfied: pytz>=2020.1 in c:\\users\\temit\\appdata\\local\\programs\\python\\python313\\lib\\site-packages (from pandas) (2025.2)\n",
      "Requirement already satisfied: tzdata>=2022.7 in c:\\users\\temit\\appdata\\local\\programs\\python\\python313\\lib\\site-packages (from pandas) (2025.2)\n",
      "Requirement already satisfied: six>=1.5 in c:\\users\\temit\\appdata\\local\\programs\\python\\python313\\lib\\site-packages (from python-dateutil>=2.8.2->pandas) (1.17.0)\n",
      "Requirement already satisfied: psycopg2 in c:\\users\\temit\\appdata\\local\\programs\\python\\python313\\lib\\site-packages (2.9.10)\n"
     ]
    }
   ],
   "source": [
    "## Import required packages\n",
    "\n",
    "!pip install pandas\n",
    "!pip install psycopg2\n",
    "import pandas as pd"
   ]
  },
  {
   "cell_type": "code",
   "execution_count": 3,
   "id": "2da6c951-d241-4967-8752-5b3ac1a90f42",
   "metadata": {},
   "outputs": [],
   "source": [
    "## Task 1A(1)\n",
    "csv_file = \"/Users/temit/Desktop/My downloads/freshmart_products_cstone.csv\"   #extract downloaded data from local machine"
   ]
  },
  {
   "cell_type": "code",
   "execution_count": 5,
   "id": "3634a2d0-0e01-42c1-b72a-79eadc73e657",
   "metadata": {},
   "outputs": [],
   "source": [
    "productsid_df = pd.read_csv(csv_file)  ## load the extracted data into a pandas dataframe"
   ]
  },
  {
   "cell_type": "code",
   "execution_count": 33,
   "id": "73208b57-1d8f-4b7c-8dab-2478bbdcf830",
   "metadata": {},
   "outputs": [
    {
     "data": {
      "text/html": [
       "<div>\n",
       "<style scoped>\n",
       "    .dataframe tbody tr th:only-of-type {\n",
       "        vertical-align: middle;\n",
       "    }\n",
       "\n",
       "    .dataframe tbody tr th {\n",
       "        vertical-align: top;\n",
       "    }\n",
       "\n",
       "    .dataframe thead th {\n",
       "        text-align: right;\n",
       "    }\n",
       "</style>\n",
       "<table border=\"1\" class=\"dataframe\">\n",
       "  <thead>\n",
       "    <tr style=\"text-align: right;\">\n",
       "      <th></th>\n",
       "      <th>ProductID</th>\n",
       "      <th>ProductName</th>\n",
       "      <th>Category</th>\n",
       "      <th>Price</th>\n",
       "      <th>StockQuantity</th>\n",
       "      <th>StockValue</th>\n",
       "    </tr>\n",
       "  </thead>\n",
       "  <tbody>\n",
       "    <tr>\n",
       "      <th>0</th>\n",
       "      <td>1</td>\n",
       "      <td>Milk</td>\n",
       "      <td>Dairy</td>\n",
       "      <td>19.35</td>\n",
       "      <td>358.0</td>\n",
       "      <td>6927.30</td>\n",
       "    </tr>\n",
       "    <tr>\n",
       "      <th>1</th>\n",
       "      <td>2</td>\n",
       "      <td>Cola</td>\n",
       "      <td>Beverages</td>\n",
       "      <td>9.99</td>\n",
       "      <td>81.0</td>\n",
       "      <td>809.19</td>\n",
       "    </tr>\n",
       "    <tr>\n",
       "      <th>2</th>\n",
       "      <td>3</td>\n",
       "      <td>Banana</td>\n",
       "      <td>Produce</td>\n",
       "      <td>30.33</td>\n",
       "      <td>112.0</td>\n",
       "      <td>3396.96</td>\n",
       "    </tr>\n",
       "    <tr>\n",
       "      <th>3</th>\n",
       "      <td>4</td>\n",
       "      <td>Cream</td>\n",
       "      <td>Dairy</td>\n",
       "      <td>22.85</td>\n",
       "      <td>224.0</td>\n",
       "      <td>5118.40</td>\n",
       "    </tr>\n",
       "    <tr>\n",
       "      <th>4</th>\n",
       "      <td>5</td>\n",
       "      <td>Cream</td>\n",
       "      <td>Dairy</td>\n",
       "      <td>3.85</td>\n",
       "      <td>97.0</td>\n",
       "      <td>373.45</td>\n",
       "    </tr>\n",
       "  </tbody>\n",
       "</table>\n",
       "</div>"
      ],
      "text/plain": [
       "   ProductID ProductName   Category  Price  StockQuantity  StockValue\n",
       "0          1        Milk      Dairy  19.35          358.0     6927.30\n",
       "1          2        Cola  Beverages   9.99           81.0      809.19\n",
       "2          3      Banana    Produce  30.33          112.0     3396.96\n",
       "3          4       Cream      Dairy  22.85          224.0     5118.40\n",
       "4          5       Cream      Dairy   3.85           97.0      373.45"
      ]
     },
     "execution_count": 33,
     "metadata": {},
     "output_type": "execute_result"
    }
   ],
   "source": [
    "## Task 1A(2)\n",
    "# productsid_df  ## print loaded data\n",
    "\n",
    "productsid_df.head(5)  ## dispay the first five rows - ascending order by default"
   ]
  },
  {
   "cell_type": "code",
   "execution_count": 8,
   "id": "33905bad-ccc9-40bd-ba6d-0a356d36db62",
   "metadata": {},
   "outputs": [],
   "source": [
    "## Task 1A(2) clean data by removing int from str in 'ProductName's table' which converts it to a regex\n",
    "\n",
    "productsid_df[\"ProductName\"] = productsid_df[\"ProductName\"].str.replace(r\"\\d+\", \"\", regex=True).str.strip() # used .str.replace(r\"\\d+ to remove int, \n",
    "#\"\" to eplace the space with nothing, regex=True to conert text to regex and .str.strip to remove any whitespaces\")"
   ]
  },
  {
   "cell_type": "code",
   "execution_count": 12,
   "id": "b94fde4e-b329-4493-9209-bc356ec4c0ac",
   "metadata": {},
   "outputs": [
    {
     "data": {
      "text/plain": [
       "ProductID        0\n",
       "ProductName      0\n",
       "Category         0\n",
       "Price            0\n",
       "StockQuantity    5\n",
       "dtype: int64"
      ]
     },
     "execution_count": 12,
     "metadata": {},
     "output_type": "execute_result"
    }
   ],
   "source": [
    "## Task 1A(2) continue data cleaning by no-nulls and it's total \n",
    "\n",
    "productsid_df.isnull().sum()\n",
    "# productsid_df.isnull()  ## confirm no-null cleaning"
   ]
  },
  {
   "cell_type": "code",
   "execution_count": 11,
   "id": "16c0a0e5-09c1-411a-872a-f6a497f003bf",
   "metadata": {},
   "outputs": [],
   "source": [
    "## Task 1A(2) continues..\n",
    "\n",
    "productsid_df[\"Price\"] = productsid_df[\"Price\"].fillna(0)  ## used .fillna(0) to replace no-nulls with 0 in \"Price\" column"
   ]
  },
  {
   "cell_type": "code",
   "execution_count": 13,
   "id": "ed7db920-5933-44c0-8012-f2a433637e43",
   "metadata": {},
   "outputs": [],
   "source": [
    "## Task 1A(2) continues..\n",
    "\n",
    "productsid_df[\"StockQuantity\"] = productsid_df[\"StockQuantity\"].fillna(0)   ## used .fillna(0) to replace no-nulls with 0 in \"StockQuantity\" column"
   ]
  },
  {
   "cell_type": "code",
   "execution_count": 14,
   "id": "64c5f9b4-f3f7-43b2-8a4a-a38adf98ff23",
   "metadata": {},
   "outputs": [
    {
     "data": {
      "text/plain": [
       "<bound method DataFrame.sum of      ProductID  ProductName  Category  Price  StockQuantity\n",
       "0        False        False     False  False          False\n",
       "1        False        False     False  False          False\n",
       "2        False        False     False  False          False\n",
       "3        False        False     False  False          False\n",
       "4        False        False     False  False          False\n",
       "..         ...          ...       ...    ...            ...\n",
       "200      False        False     False  False          False\n",
       "201      False        False     False  False          False\n",
       "202      False        False     False  False          False\n",
       "203      False        False     False  False          False\n",
       "204      False        False     False  False          False\n",
       "\n",
       "[205 rows x 5 columns]>"
      ]
     },
     "execution_count": 14,
     "metadata": {},
     "output_type": "execute_result"
    }
   ],
   "source": [
    "## Task 1A(2) continues..\n",
    "\n",
    "productsid_df.isnull().sum"
   ]
  },
  {
   "cell_type": "code",
   "execution_count": 18,
   "id": "58ec8882-ab5d-4bd3-a7ea-a6388542147a",
   "metadata": {},
   "outputs": [
    {
     "data": {
      "text/plain": [
       "0      False\n",
       "1      False\n",
       "2      False\n",
       "3      False\n",
       "4      False\n",
       "       ...  \n",
       "200     True\n",
       "201     True\n",
       "202    False\n",
       "203     True\n",
       "204     True\n",
       "Length: 205, dtype: bool"
      ]
     },
     "execution_count": 18,
     "metadata": {},
     "output_type": "execute_result"
    }
   ],
   "source": [
    "## Task 1A(2) continues..\n",
    "\n",
    "productsid_df.duplicated()  # used .duplicated() to check for duplicates"
   ]
  },
  {
   "cell_type": "code",
   "execution_count": 20,
   "id": "eaf5eb10-0d07-46e4-90a0-62669dce63a2",
   "metadata": {},
   "outputs": [],
   "source": [
    "## Task 1A(2) continues..\n",
    "\n",
    "productsid_df = productsid_df.drop_duplicates()   # used .drop_duplicates() to remove duplicated data"
   ]
  },
  {
   "cell_type": "code",
   "execution_count": 23,
   "id": "52df096d-7659-42ac-a731-a2ecedc2a05c",
   "metadata": {},
   "outputs": [
    {
     "data": {
      "text/html": [
       "<div>\n",
       "<style scoped>\n",
       "    .dataframe tbody tr th:only-of-type {\n",
       "        vertical-align: middle;\n",
       "    }\n",
       "\n",
       "    .dataframe tbody tr th {\n",
       "        vertical-align: top;\n",
       "    }\n",
       "\n",
       "    .dataframe thead th {\n",
       "        text-align: right;\n",
       "    }\n",
       "</style>\n",
       "<table border=\"1\" class=\"dataframe\">\n",
       "  <thead>\n",
       "    <tr style=\"text-align: right;\">\n",
       "      <th></th>\n",
       "      <th>ProductID</th>\n",
       "      <th>ProductName</th>\n",
       "      <th>Category</th>\n",
       "      <th>Price</th>\n",
       "      <th>StockQuantity</th>\n",
       "    </tr>\n",
       "  </thead>\n",
       "  <tbody>\n",
       "    <tr>\n",
       "      <th>0</th>\n",
       "      <td>1</td>\n",
       "      <td>Milk</td>\n",
       "      <td>Dairy</td>\n",
       "      <td>19.35</td>\n",
       "      <td>358.0</td>\n",
       "    </tr>\n",
       "    <tr>\n",
       "      <th>1</th>\n",
       "      <td>2</td>\n",
       "      <td>Cola</td>\n",
       "      <td>Beverages</td>\n",
       "      <td>9.99</td>\n",
       "      <td>81.0</td>\n",
       "    </tr>\n",
       "    <tr>\n",
       "      <th>2</th>\n",
       "      <td>3</td>\n",
       "      <td>Banana</td>\n",
       "      <td>Produce</td>\n",
       "      <td>30.33</td>\n",
       "      <td>112.0</td>\n",
       "    </tr>\n",
       "    <tr>\n",
       "      <th>3</th>\n",
       "      <td>4</td>\n",
       "      <td>Cream</td>\n",
       "      <td>Dairy</td>\n",
       "      <td>22.85</td>\n",
       "      <td>224.0</td>\n",
       "    </tr>\n",
       "    <tr>\n",
       "      <th>4</th>\n",
       "      <td>5</td>\n",
       "      <td>Cream</td>\n",
       "      <td>Dairy</td>\n",
       "      <td>3.85</td>\n",
       "      <td>97.0</td>\n",
       "    </tr>\n",
       "    <tr>\n",
       "      <th>...</th>\n",
       "      <td>...</td>\n",
       "      <td>...</td>\n",
       "      <td>...</td>\n",
       "      <td>...</td>\n",
       "      <td>...</td>\n",
       "    </tr>\n",
       "    <tr>\n",
       "      <th>196</th>\n",
       "      <td>197</td>\n",
       "      <td>Cola</td>\n",
       "      <td>Beverages</td>\n",
       "      <td>27.04</td>\n",
       "      <td>56.0</td>\n",
       "    </tr>\n",
       "    <tr>\n",
       "      <th>197</th>\n",
       "      <td>198</td>\n",
       "      <td>Apple</td>\n",
       "      <td>Produce</td>\n",
       "      <td>35.28</td>\n",
       "      <td>433.0</td>\n",
       "    </tr>\n",
       "    <tr>\n",
       "      <th>198</th>\n",
       "      <td>199</td>\n",
       "      <td>Mineral Water</td>\n",
       "      <td>Beverages</td>\n",
       "      <td>36.58</td>\n",
       "      <td>278.0</td>\n",
       "    </tr>\n",
       "    <tr>\n",
       "      <th>199</th>\n",
       "      <td>200</td>\n",
       "      <td>Donut</td>\n",
       "      <td>Bakery</td>\n",
       "      <td>48.51</td>\n",
       "      <td>115.0</td>\n",
       "    </tr>\n",
       "    <tr>\n",
       "      <th>202</th>\n",
       "      <td>31</td>\n",
       "      <td>Apple</td>\n",
       "      <td>Produce</td>\n",
       "      <td>21.83</td>\n",
       "      <td>63.0</td>\n",
       "    </tr>\n",
       "  </tbody>\n",
       "</table>\n",
       "<p>201 rows × 5 columns</p>\n",
       "</div>"
      ],
      "text/plain": [
       "     ProductID    ProductName   Category  Price  StockQuantity\n",
       "0            1           Milk      Dairy  19.35          358.0\n",
       "1            2           Cola  Beverages   9.99           81.0\n",
       "2            3         Banana    Produce  30.33          112.0\n",
       "3            4          Cream      Dairy  22.85          224.0\n",
       "4            5          Cream      Dairy   3.85           97.0\n",
       "..         ...            ...        ...    ...            ...\n",
       "196        197           Cola  Beverages  27.04           56.0\n",
       "197        198          Apple    Produce  35.28          433.0\n",
       "198        199  Mineral Water  Beverages  36.58          278.0\n",
       "199        200          Donut     Bakery  48.51          115.0\n",
       "202         31          Apple    Produce  21.83           63.0\n",
       "\n",
       "[201 rows x 5 columns]"
      ]
     },
     "execution_count": 23,
     "metadata": {},
     "output_type": "execute_result"
    }
   ],
   "source": [
    "## Task 1A(2) continues..\n",
    "\n",
    "productsid_df.drop_duplicates()  # assigned updated data to the dataset"
   ]
  },
  {
   "cell_type": "code",
   "execution_count": 26,
   "id": "71933f5f-1535-40bc-9dc0-ad044a199e3d",
   "metadata": {},
   "outputs": [],
   "source": [
    "## Task 1A(2) continues..\n",
    "\n",
    "productsid_df = productsid_df.drop_duplicates()  # assigned updated data to the dataset\n",
    "# productsid_df.duplicated().sum()  # confirmed there's no more duplicate"
   ]
  },
  {
   "cell_type": "code",
   "execution_count": 29,
   "id": "e33dc97c-bf9a-43fd-9ce0-91fb2eb48ea6",
   "metadata": {},
   "outputs": [],
   "source": [
    "productsid_df[\"Category\"] = productsid_df[\"Category\"].replace(\"snakcs\", \"snacks\")   # used .replace() to correct wrongly spelt word 'snakc'on row 30 and assigned updated data to Category\n",
    "#productsid_df.iloc[30]  # reprint row 30 to confirm the update"
   ]
  },
  {
   "cell_type": "code",
   "execution_count": null,
   "id": "05957c6a-b59b-414e-b9af-2a5028025317",
   "metadata": {},
   "outputs": [],
   "source": [
    "## Task 1A(2) continues..\n",
    "\n",
    "productsid_df.sort_values(by = 'Category', ascending=False)\n",
    "# productsid_df['Category'].info()  # .info() was used to confirm sorting by Category"
   ]
  },
  {
   "cell_type": "code",
   "execution_count": 37,
   "id": "38bd9751-610f-4504-a3dc-27841988bf93",
   "metadata": {},
   "outputs": [],
   "source": [
    "## Task 1A(2) continues..\n",
    "\n",
    "productsid_df[\"StockValue\"] = productsid_df[\"Price\"] * productsid_df[\"StockQuantity\"]\n",
    "# productsid_df  ## run to confirm the new column \"StockQuantity\""
   ]
  },
  {
   "cell_type": "code",
   "execution_count": 39,
   "id": "57f378c3-469e-428b-acb7-b1d91d924f41",
   "metadata": {},
   "outputs": [
    {
     "data": {
      "text/html": [
       "<div>\n",
       "<style scoped>\n",
       "    .dataframe tbody tr th:only-of-type {\n",
       "        vertical-align: middle;\n",
       "    }\n",
       "\n",
       "    .dataframe tbody tr th {\n",
       "        vertical-align: top;\n",
       "    }\n",
       "\n",
       "    .dataframe thead th {\n",
       "        text-align: right;\n",
       "    }\n",
       "</style>\n",
       "<table border=\"1\" class=\"dataframe\">\n",
       "  <thead>\n",
       "    <tr style=\"text-align: right;\">\n",
       "      <th></th>\n",
       "      <th>Category</th>\n",
       "      <th>Avg_Price</th>\n",
       "      <th>Total_StockQuantity</th>\n",
       "    </tr>\n",
       "  </thead>\n",
       "  <tbody>\n",
       "    <tr>\n",
       "      <th>0</th>\n",
       "      <td>Bakery</td>\n",
       "      <td>21.815135</td>\n",
       "      <td>9898.0</td>\n",
       "    </tr>\n",
       "    <tr>\n",
       "      <th>1</th>\n",
       "      <td>Bevarages</td>\n",
       "      <td>9.360000</td>\n",
       "      <td>176.0</td>\n",
       "    </tr>\n",
       "    <tr>\n",
       "      <th>2</th>\n",
       "      <td>Beverages</td>\n",
       "      <td>24.810488</td>\n",
       "      <td>11304.0</td>\n",
       "    </tr>\n",
       "    <tr>\n",
       "      <th>3</th>\n",
       "      <td>Dairy</td>\n",
       "      <td>24.242195</td>\n",
       "      <td>9649.0</td>\n",
       "    </tr>\n",
       "    <tr>\n",
       "      <th>4</th>\n",
       "      <td>Produce</td>\n",
       "      <td>24.264878</td>\n",
       "      <td>9580.0</td>\n",
       "    </tr>\n",
       "    <tr>\n",
       "      <th>5</th>\n",
       "      <td>Snacks</td>\n",
       "      <td>25.313947</td>\n",
       "      <td>10673.0</td>\n",
       "    </tr>\n",
       "    <tr>\n",
       "      <th>6</th>\n",
       "      <td>dairy</td>\n",
       "      <td>9.990000</td>\n",
       "      <td>469.0</td>\n",
       "    </tr>\n",
       "    <tr>\n",
       "      <th>7</th>\n",
       "      <td>snacks</td>\n",
       "      <td>21.830000</td>\n",
       "      <td>63.0</td>\n",
       "    </tr>\n",
       "  </tbody>\n",
       "</table>\n",
       "</div>"
      ],
      "text/plain": [
       "    Category  Avg_Price  Total_StockQuantity\n",
       "0     Bakery  21.815135               9898.0\n",
       "1  Bevarages   9.360000                176.0\n",
       "2  Beverages  24.810488              11304.0\n",
       "3      Dairy  24.242195               9649.0\n",
       "4    Produce  24.264878               9580.0\n",
       "5     Snacks  25.313947              10673.0\n",
       "6      dairy   9.990000                469.0\n",
       "7     snacks  21.830000                 63.0"
      ]
     },
     "execution_count": 39,
     "metadata": {},
     "output_type": "execute_result"
    }
   ],
   "source": [
    "## Task 1A(2) continues..\n",
    "# Group by Category and aggregate\n",
    "agg_productsid_df = productsid_df.groupby(\"Category\").agg(Avg_Price=(\"Price\", \"mean\"),\n",
    "    Total_StockQuantity=(\"StockQuantity\", \"sum\")).reset_index()\n",
    "\n",
    "agg_productsid_df"
   ]
  },
  {
   "cell_type": "code",
   "execution_count": 152,
   "id": "1cbb0cb0-35b0-4c79-a614-4cecd0731611",
   "metadata": {},
   "outputs": [
    {
     "data": {
      "text/html": [
       "<div>\n",
       "<style scoped>\n",
       "    .dataframe tbody tr th:only-of-type {\n",
       "        vertical-align: middle;\n",
       "    }\n",
       "\n",
       "    .dataframe tbody tr th {\n",
       "        vertical-align: top;\n",
       "    }\n",
       "\n",
       "    .dataframe thead th {\n",
       "        text-align: right;\n",
       "    }\n",
       "</style>\n",
       "<table border=\"1\" class=\"dataframe\">\n",
       "  <thead>\n",
       "    <tr style=\"text-align: right;\">\n",
       "      <th></th>\n",
       "      <th>ProductID</th>\n",
       "      <th>ProductName</th>\n",
       "      <th>Category</th>\n",
       "      <th>Price</th>\n",
       "      <th>StockQuantity</th>\n",
       "    </tr>\n",
       "  </thead>\n",
       "  <tbody>\n",
       "    <tr>\n",
       "      <th>0</th>\n",
       "      <td>1</td>\n",
       "      <td>Milk 1</td>\n",
       "      <td>Dairy</td>\n",
       "      <td>19.35</td>\n",
       "      <td>358.0</td>\n",
       "    </tr>\n",
       "    <tr>\n",
       "      <th>1</th>\n",
       "      <td>2</td>\n",
       "      <td>Cola 2</td>\n",
       "      <td>Beverages</td>\n",
       "      <td>9.99</td>\n",
       "      <td>81.0</td>\n",
       "    </tr>\n",
       "    <tr>\n",
       "      <th>2</th>\n",
       "      <td>3</td>\n",
       "      <td>Banana 3</td>\n",
       "      <td>Produce</td>\n",
       "      <td>30.33</td>\n",
       "      <td>112.0</td>\n",
       "    </tr>\n",
       "    <tr>\n",
       "      <th>3</th>\n",
       "      <td>4</td>\n",
       "      <td>Cream 4</td>\n",
       "      <td>Dairy</td>\n",
       "      <td>22.85</td>\n",
       "      <td>224.0</td>\n",
       "    </tr>\n",
       "    <tr>\n",
       "      <th>4</th>\n",
       "      <td>5</td>\n",
       "      <td>Cream 5</td>\n",
       "      <td>Dairy</td>\n",
       "      <td>3.85</td>\n",
       "      <td>97.0</td>\n",
       "    </tr>\n",
       "  </tbody>\n",
       "</table>\n",
       "</div>"
      ],
      "text/plain": [
       "   ProductID ProductName   Category  Price  StockQuantity\n",
       "0          1      Milk 1      Dairy  19.35          358.0\n",
       "1          2      Cola 2  Beverages   9.99           81.0\n",
       "2          3    Banana 3    Produce  30.33          112.0\n",
       "3          4     Cream 4      Dairy  22.85          224.0\n",
       "4          5     Cream 5      Dairy   3.85           97.0"
      ]
     },
     "execution_count": 152,
     "metadata": {},
     "output_type": "execute_result"
    }
   ],
   "source": [
    "import psycopg2\n",
    "import pandas as pd\n",
    "\n",
    "# -----------------------------\n",
    "# Step 1: Load CSV into Pandas\n",
    "# -----------------------------\n",
    "csv_path = r\"C:\\Users\\temit\\Desktop\\My downloads\\freshmart_products_cstone.csv\"\n",
    "productsid_df = pd.read_csv(csv_path)\n",
    "\n",
    "productsid_df.head()"
   ]
  },
  {
   "cell_type": "code",
   "execution_count": 154,
   "id": "4af2e566-0ca0-47da-b0d3-35c936d263d9",
   "metadata": {},
   "outputs": [],
   "source": [
    "# -----------------------------\n",
    "# Step 2: Connect to PostgreSQL\n",
    "# -----------------------------\n",
    "try:\n",
    "    conn = psycopg2.connect(\n",
    "        host=\"localhost\",\n",
    "        port=\"5432\",\n",
    "        dbname=\"freshmart_db\",\n",
    "        user=\"postgres\",\n",
    "        password=\"OluwaBori#77\"\n",
    "    )\n",
    "    cur = conn.cursor()\n",
    "    \n",
    "except Exception as e:\n",
    "#    print(\"❌ Connection failed:\", e)\n",
    "    exit()"
   ]
  },
  {
   "cell_type": "code",
   "execution_count": 155,
   "id": "a4539ca8-a083-41b6-8ecf-d391eca1e660",
   "metadata": {},
   "outputs": [],
   "source": [
    "productsid_df['StockQuantity'] = pd.to_numeric(productsid_df['StockQuantity'], errors='coerce').fillna(0).astype(int)"
   ]
  },
  {
   "cell_type": "code",
   "execution_count": 156,
   "id": "061e9503-39b6-4f9f-8b36-9501031d2e11",
   "metadata": {},
   "outputs": [],
   "source": [
    "productsid_df['Price'] = pd.to_numeric(productsid_df['Price'], errors='coerce').fillna(0).astype(float)"
   ]
  },
  {
   "cell_type": "code",
   "execution_count": 160,
   "id": "0c45c2db-6be6-4b8f-8004-69dd5628e8f9",
   "metadata": {},
   "outputs": [],
   "source": [
    "# -----------------------------\n",
    "# Step 3: Create table if not exists\n",
    "# -----------------------------\n",
    "create_table_query = \"\"\"\n",
    "CREATE TABLE IF NOT EXISTS Products (\n",
    "    ProductID SERIAL PRIMARY KEY,\n",
    "    ProductName VARCHAR(100),\n",
    "    Category VARCHAR(50),\n",
    "    Price DECIMAL(10,2),\n",
    "    StockQuantity INT  \n",
    ");\n",
    "\"\"\"\n",
    "cur.execute(create_table_query)\n",
    "conn.commit()"
   ]
  },
  {
   "cell_type": "code",
   "execution_count": 161,
   "id": "938a1c6e-e0c9-486e-bddd-afca60b394f6",
   "metadata": {},
   "outputs": [],
   "source": [
    "#cur.execute('''\n",
    "#DROP TABLE IF EXISTS Products\n",
    "#''')"
   ]
  },
  {
   "cell_type": "code",
   "execution_count": 162,
   "id": "60f42c71-fc9f-4449-8253-0127afc96e4a",
   "metadata": {},
   "outputs": [],
   "source": [
    "# -----------------------------\n",
    "# Step 4: Insert Data from Pandas\n",
    "# -----------------------------\n",
    "try:\n",
    "    for _, row in productsid_df.iterrows():\n",
    "        cur.execute(\"\"\"\n",
    "            INSERT INTO Products (ProductName, Category, Price, StockQuantity)\n",
    "            VALUES (%s, %s, %s, %s)\n",
    "        \"\"\", (row['ProductName'], row['Category'], row['Price'], row['StockQuantity']))\n",
    "\n",
    "    conn.commit()\n",
    "   # print(\"✅ All data inserted successfully!\")\n",
    "\n",
    "except Exception as e:\n",
    "    conn.rollback()  # reset transaction if error happens"
   ]
  },
  {
   "cell_type": "code",
   "execution_count": 163,
   "id": "a72d3fcd-6d94-4ff7-b66f-daedb095bd99",
   "metadata": {},
   "outputs": [
    {
     "name": "stdout",
     "output_type": "stream",
     "text": [
      "(1, 'Milk 1', 'Dairy', Decimal('19.35'), 358)\n",
      "(2, 'Cola 2', 'Beverages', Decimal('9.99'), 81)\n",
      "(3, 'Banana 3', 'Produce', Decimal('30.33'), 112)\n",
      "(4, 'Cream 4', 'Dairy', Decimal('22.85'), 224)\n",
      "(5, 'Cream 5', 'Dairy', Decimal('3.85'), 97)\n"
     ]
    }
   ],
   "source": [
    "# -----------------------------\n",
    "# Step 5: Verify\n",
    "# -----------------------------\n",
    "# Run a query\n",
    "cur.execute(\"\"\"\n",
    "    SELECT * \n",
    "    FROM Products \n",
    "    LIMIT 5;\n",
    "\"\"\")\n",
    "\n",
    "# Fetch results\n",
    "for row in cur.fetchall():\n",
    "    print(row)\n",
    "\n",
    "# Close connections\n",
    "cur.close()\n",
    "conn.close()"
   ]
  },
  {
   "cell_type": "code",
   "execution_count": 164,
   "id": "19cb7002-97e3-4724-8bfa-113a7af1cf5e",
   "metadata": {},
   "outputs": [
    {
     "name": "stdout",
     "output_type": "stream",
     "text": [
      "ℹ️ Database already exists.\n"
     ]
    }
   ],
   "source": [
    "import psycopg2\n",
    "\n",
    "# First connect to default database (postgres)\n",
    "conn = psycopg2.connect(\n",
    "    host=\"localhost\",\n",
    "    port=\"5432\",\n",
    "    dbname=\"postgres\",   # default db\n",
    "    user=\"postgres\",\n",
    "    password=\"OluwaBori#77\"\n",
    ")\n",
    "conn.autocommit = True\n",
    "cur = conn.cursor()\n",
    "\n",
    "# Create freshmart_db if it doesn't exist\n",
    "cur.execute(\"SELECT 1 FROM pg_database WHERE datname='freshmart_db'\")\n",
    "exists = cur.fetchone()\n",
    "if not exists:\n",
    "    cur.execute(\"CREATE DATABASE freshmart_db;\")\n",
    "    print(\"✅ Database freshmart_db created.\")\n",
    "else:\n",
    "    print(\"ℹ️ Database already exists.\")\n",
    "\n",
    "cur.close()\n",
    "conn.close()"
   ]
  },
  {
   "cell_type": "code",
   "execution_count": 165,
   "id": "06d390d4-df57-4469-a4b1-31d68d87e4ad",
   "metadata": {},
   "outputs": [],
   "source": [
    "conn = psycopg2.connect(\n",
    "    host=\"localhost\",\n",
    "    port=\"5432\",\n",
    "    dbname=\"freshmart_db\",\n",
    "    user=\"postgres\",\n",
    "    password=\"OluwaBori#77\"\n",
    ")\n",
    "cur = conn.cursor()"
   ]
  },
  {
   "cell_type": "code",
   "execution_count": 166,
   "id": "8a2c03b0-a93e-4e0c-9b7e-29ca3196ebe5",
   "metadata": {},
   "outputs": [],
   "source": [
    "# Data Definition Language (DDL)\n",
    "# Create tables\n",
    "\n",
    "create_table_query = \"\"\"\n",
    "CREATE TABLE IF NOT EXISTS Products (\n",
    "    ProductID SERIAL PRIMARY KEY,\n",
    "    ProductName VARCHAR(100),\n",
    "    Category VARCHAR(50),\n",
    "    Price DECIMAL,\n",
    "    StockQuantity INT\n",
    ");\n",
    "\"\"\"\n",
    "cur.execute(create_table_query)\n",
    "conn.commit()"
   ]
  },
  {
   "cell_type": "code",
   "execution_count": 167,
   "id": "799cdee3-3e89-43e4-8e79-31672d1c2301",
   "metadata": {},
   "outputs": [],
   "source": [
    "conn.rollback()"
   ]
  },
  {
   "cell_type": "code",
   "execution_count": 168,
   "id": "dbfc8724-8131-41cc-8e20-da12ea07c4a5",
   "metadata": {},
   "outputs": [
    {
     "name": "stdout",
     "output_type": "stream",
     "text": [
      "✅ Data inserted into Products table\n"
     ]
    }
   ],
   "source": [
    "# Insert data into PostgreSQL\n",
    "for _, row in productsid_df.iterrows():\n",
    "    cur.execute(\"\"\"\n",
    "        INSERT INTO Products (ProductName, Category, Price, StockQuantity)\n",
    "        VALUES (%s, %s, %s, %s)\n",
    "    \"\"\", (row['ProductName'], row['Category'], row['Price'], row['StockQuantity']))\n",
    "\n",
    "conn.commit()"
   ]
  },
  {
   "cell_type": "code",
   "execution_count": null,
   "id": "efb0e428-27be-4c14-b8e1-1605d38ffe4d",
   "metadata": {},
   "outputs": [],
   "source": [
    "git init\n",
    "git add .\n",
    "git commit -m \"Initial FreshMart data pipeline\"\n",
    "git remote add origin https://github.com/yourusername/freshmart-pipeline.git\n",
    "git push -u origin main"
   ]
  },
  {
   "cell_type": "code",
   "execution_count": null,
   "id": "d555ef92-42ea-42e2-a5cb-d2f3154d5b86",
   "metadata": {},
   "outputs": [],
   "source": []
  },
  {
   "cell_type": "code",
   "execution_count": null,
   "id": "71bd2d01-bc96-439e-aa44-3295529f2482",
   "metadata": {},
   "outputs": [],
   "source": []
  },
  {
   "cell_type": "code",
   "execution_count": null,
   "id": "1402f84d-9005-4d89-9ad5-2fc1256ef301",
   "metadata": {},
   "outputs": [],
   "source": []
  },
  {
   "cell_type": "code",
   "execution_count": null,
   "id": "d32886bb-b7e1-41c6-b349-7234e0c764aa",
   "metadata": {},
   "outputs": [],
   "source": []
  }
 ],
 "metadata": {
  "kernelspec": {
   "display_name": "Python 3 (ipykernel)",
   "language": "python",
   "name": "python3"
  },
  "language_info": {
   "codemirror_mode": {
    "name": "ipython",
    "version": 3
   },
   "file_extension": ".py",
   "mimetype": "text/x-python",
   "name": "python",
   "nbconvert_exporter": "python",
   "pygments_lexer": "ipython3",
   "version": "3.13.5"
  }
 },
 "nbformat": 4,
 "nbformat_minor": 5
}
